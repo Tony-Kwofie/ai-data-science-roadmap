import numpy as np
import pandas as pd

df = pd.read_csv(r"C:\Users\HP\Desktop\tony python\data set\titanic.csv")


print(df.describe())

# How many survived
print(df["Survived"].value_counts())

# Average age
print(df["Age"].mean())

# Highest fare
print(df["Fare"].max())

# Women who survived
print(df[(df["Sex"] == "female") & (df["Survived"] == 1)])

# How many people were in each class?
print(df["Pclass"].value_counts())

# Compare survival rate of men vs women:
print(df.groupby("Sex")["Survived"].mean())
