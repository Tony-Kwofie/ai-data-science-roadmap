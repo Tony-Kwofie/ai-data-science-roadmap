{
 "cells": [
  {
   "cell_type": "code",
   "execution_count": null,
   "id": "f75c895d-1ea9-49a0-aa04-0bd5c92fbfb8",
   "metadata": {},
   "outputs": [],
   "source": [
    "import pandas as pd\n",
    "\n",
    "df = pd.read_csv(r\"C:\\Users\\HP\\Desktop\\tony python\\data set\\cleaned_occupational_health_and_safety.csv\")"
   ]
  },
  {
   "cell_type": "code",
   "execution_count": null,
   "id": "3743e111-d6a7-4fd0-ae59-0d738c406b8b",
   "metadata": {
    "scrolled": true
   },
   "outputs": [],
   "source": [
    "print(df.columns)"
   ]
  },
  {
   "cell_type": "code",
   "execution_count": null,
   "id": "7762b995-0c9a-4c0c-8f49-3eccc108b7a2",
   "metadata": {},
   "outputs": [],
   "source": [
    "# Most Common Injury Types\n",
    "\n",
    "import matplotlib.pyplot as plt\n",
    "import seaborn as sns\n",
    "\n",
    "plt.figure(figsize=(10, 6))\n",
    "sns.countplot(data=df, x='Injury Type')\n",
    "\n",
    "plt.title('Most Common Injury Types')\n",
    "plt.xticks(rotation=45)\n",
    "plt.tight_layout()\n",
    "plt.show()\n"
   ]
  },
  {
   "cell_type": "code",
   "execution_count": null,
   "id": "41c96ac1-5d92-46d9-a51d-1a224a357633",
   "metadata": {},
   "outputs": [],
   "source": [
    "# Incidents by Location\n",
    "\n",
    "plt.figure(figsize=(10, 6))\n",
    "sns.countplot(data=df, x='Location')\n",
    "plt.title('Incidents by Location')\n",
    "plt.xticks(rotation=45)\n",
    "plt.tight_layout()\n",
    "plt.show()\n"
   ]
  },
  {
   "cell_type": "code",
   "execution_count": null,
   "id": "a1935650-acce-449a-a529-62cd785ab9f0",
   "metadata": {},
   "outputs": [],
   "source": [
    "# Severity Distribution\n",
    "\n",
    "plt.figure(figsize=(8, 5))\n",
    "sns.countplot(data=df, x='Severity', hue='Severity', palette='coolwarm', legend=False)\n",
    "plt.title('Severity of Reported Incidents')\n",
    "plt.show()\n"
   ]
  },
  {
   "cell_type": "code",
   "execution_count": null,
   "id": "0fe43d0f-4907-49dd-8aed-086a72cb23c2",
   "metadata": {},
   "outputs": [],
   "source": [
    "#Employee Age vs. Duration (Days)\n",
    "\n",
    "plt.figure(figsize=(8, 5))\n",
    "sns.scatterplot(data=df, x='Employee Age', y='Duration (Days)', hue='Severity')\n",
    "plt.title('Employee Age vs Duration of Incident Recovery')\n",
    "plt.show()\n"
   ]
  },
  {
   "cell_type": "code",
   "execution_count": null,
   "id": "e54ad753-e58e-45a7-aa38-2146acaf96f9",
   "metadata": {},
   "outputs": [],
   "source": [
    "\n"
   ]
  }
 ],
 "metadata": {
  "kernelspec": {
   "display_name": "Python [conda env:anaconda3]",
   "language": "python",
   "name": "conda-env-anaconda3-py"
  },
  "language_info": {
   "codemirror_mode": {
    "name": "ipython",
    "version": 3
   },
   "file_extension": ".py",
   "mimetype": "text/x-python",
   "name": "python",
   "nbconvert_exporter": "python",
   "pygments_lexer": "ipython3",
   "version": "3.12.7"
  }
 },
 "nbformat": 4,
 "nbformat_minor": 5
}
