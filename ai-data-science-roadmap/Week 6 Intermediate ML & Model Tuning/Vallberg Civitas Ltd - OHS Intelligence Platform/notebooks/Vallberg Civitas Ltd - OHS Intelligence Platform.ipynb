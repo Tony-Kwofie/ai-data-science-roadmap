{
 "cells": [
  {
   "cell_type": "code",
   "execution_count": null,
   "id": "3d7cc88e-41cf-4841-ad34-e65e81a93c97",
   "metadata": {},
   "outputs": [],
   "source": [
    "import pandas as pd"
   ]
  },
  {
   "cell_type": "code",
   "execution_count": null,
   "id": "ccf70a29-01f4-4ce0-9af5-31044786d39b",
   "metadata": {},
   "outputs": [],
   "source": [
    "# 1. Load dataset\n",
    "df = pd.read_csv(r\"C:\\Users\\HP\\Desktop\\PROJECTS\\OHS-Intelligence-Platform\\data\\safety_incident_dataset.csv\")\n",
    "\n",
    "print(df.head())"
   ]
  },
  {
   "cell_type": "code",
   "execution_count": null,
   "id": "e7f9ac6a-cac6-4c49-ae5d-cbbd46302a67",
   "metadata": {
    "scrolled": true
   },
   "outputs": [],
   "source": [
    "# Check data types and missing values\n",
    "df.info()"
   ]
  },
  {
   "cell_type": "code",
   "execution_count": null,
   "id": "c108f1d0-6f57-4a0e-95e6-8a212fcd46d4",
   "metadata": {
    "scrolled": true
   },
   "outputs": [],
   "source": [
    "# 2. Encode categorical columns\n",
    "\n",
    "from sklearn.preprocessing import LabelEncoder\n",
    "\n",
    "label_encoders = {}\n",
    "categorical_cols = df.select_dtypes(include='object').columns\n",
    "\n",
    "for col in categorical_cols:\n",
    "    le = LabelEncoder()\n",
    "    df[col] = le.fit_transform(df[col])\n",
    "    label_encoders[col] = le"
   ]
  },
  {
   "cell_type": "code",
   "execution_count": null,
   "id": "7271b87e-46c8-492b-af9f-0c0fb173f476",
   "metadata": {},
   "outputs": [],
   "source": [
    "# 3. Define features (X) and target (y)\n",
    "X = df.drop(\"Incident_Severity\", axis=1)\n",
    "y = df[\"Incident_Severity\"]"
   ]
  },
  {
   "cell_type": "code",
   "execution_count": null,
   "id": "1b59e2ac-295c-44c2-9550-3e1d323b470a",
   "metadata": {},
   "outputs": [],
   "source": [
    "# 4. Train-test split\n",
    "\n",
    "from sklearn.ensemble import RandomForestClassifier\n",
    "\n",
    "X_train, X_test, y_train, y_test = train_test_split(X, y, test_size=0.2, random_state=42)"
   ]
  },
  {
   "cell_type": "code",
   "execution_count": null,
   "id": "4c5e29bf-5b28-4be9-bb5b-2738fc827c24",
   "metadata": {},
   "outputs": [],
   "source": [
    "# 5. Train Random Forest Classifier\n",
    "\n",
    "from sklearn.model_selection import train_test_split\n",
    "\n",
    "from sklearn.metrics import classification_report\n",
    "\n",
    "model = RandomForestClassifier(n_estimators=100, random_state=42)\n",
    "model.fit(X_train, y_train)\n"
   ]
  },
  {
   "cell_type": "code",
   "execution_count": null,
   "id": "e030c0f9-c025-4c4c-916e-5a3e8e31847c",
   "metadata": {
    "scrolled": true
   },
   "outputs": [],
   "source": [
    "# 6. Evaluate\n",
    "y_pred = model.predict(X_test)\n",
    "print(\"Classification Report:\\n\", classification_report(y_test, y_pred))"
   ]
  },
  {
   "cell_type": "code",
   "execution_count": null,
   "id": "5e1b5ca4-c90d-4dcb-9f14-ada5f16ca30b",
   "metadata": {},
   "outputs": [],
   "source": [
    "# 7. Save model and encoders\n",
    "\n",
    "import joblib\n",
    "\n",
    "joblib.dump(model, \"C:/Users/HP/Desktop/PROJECTS/OHS-Intelligence-Platform/risk_predictor.pkl\")\n",
    "joblib.dump(label_encoders, \"C:/Users/HP/Desktop/PROJECTS/OHS-Intelligence-Platform/label_encoders.pkl\")"
   ]
  },
  {
   "cell_type": "code",
   "execution_count": null,
   "id": "fe2b4628-dc88-4531-b3f5-a11f1ffd4847",
   "metadata": {},
   "outputs": [],
   "source": []
  },
  {
   "cell_type": "code",
   "execution_count": null,
   "id": "919e586d-7153-4473-b183-2d5e81120a11",
   "metadata": {},
   "outputs": [],
   "source": []
  },
  {
   "cell_type": "code",
   "execution_count": null,
   "id": "98d02e8d-b130-49df-a49b-59dfade3bf76",
   "metadata": {},
   "outputs": [],
   "source": []
  }
 ],
 "metadata": {
  "kernelspec": {
   "display_name": "Python [conda env:anaconda3]",
   "language": "python",
   "name": "conda-env-anaconda3-py"
  },
  "language_info": {
   "codemirror_mode": {
    "name": "ipython",
    "version": 3
   },
   "file_extension": ".py",
   "mimetype": "text/x-python",
   "name": "python",
   "nbconvert_exporter": "python",
   "pygments_lexer": "ipython3",
   "version": "3.12.7"
  }
 },
 "nbformat": 4,
 "nbformat_minor": 5
}
