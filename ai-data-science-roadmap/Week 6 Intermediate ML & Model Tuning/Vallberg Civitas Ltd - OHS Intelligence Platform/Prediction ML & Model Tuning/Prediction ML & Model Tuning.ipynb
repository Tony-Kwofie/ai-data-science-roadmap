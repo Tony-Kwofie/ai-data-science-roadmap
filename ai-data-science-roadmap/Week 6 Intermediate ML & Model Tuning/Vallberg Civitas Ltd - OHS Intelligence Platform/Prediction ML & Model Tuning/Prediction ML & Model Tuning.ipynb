{
 "cells": [
  {
   "cell_type": "code",
   "execution_count": 42,
   "id": "0c601a9d-1ce7-4ae1-aa5e-4ebe917e2209",
   "metadata": {},
   "outputs": [],
   "source": [
    "import pandas as pd"
   ]
  },
  {
   "cell_type": "code",
   "execution_count": 44,
   "id": "8fa360f6-dcc9-4c05-baaa-fa878b8d62a5",
   "metadata": {},
   "outputs": [],
   "source": [
    "df = pd.read_csv(r\"C:\\Users\\HP\\Desktop\\PROJECTS\\Week 6\\Occupational health and safety.csv\")"
   ]
  },
  {
   "cell_type": "code",
   "execution_count": 46,
   "id": "88d3246f-af16-479f-9960-88823d270160",
   "metadata": {
    "scrolled": true
   },
   "outputs": [],
   "source": [
    "#print(df.info())"
   ]
  },
  {
   "cell_type": "code",
   "execution_count": 48,
   "id": "dfda762d-c7e4-450d-8baf-2f75a588b3e8",
   "metadata": {
    "scrolled": true
   },
   "outputs": [
    {
     "name": "stdout",
     "output_type": "stream",
     "text": [
      "  Location  Employee Age  Injury Type                     Cause  \\\n",
      "0   Site A          32.0     Fracture          Fall from height   \n",
      "1   Site B          28.0         Burn  Contact with hot surface   \n",
      "2   Site A          45.0       Sprain         Slip on wet floor   \n",
      "3   Site C           NaN   Laceration     Machinery malfunction   \n",
      "4   Site A          29.0  Broken Bone    Collision with vehicle   \n",
      "\n",
      "   Duration (Days)  \n",
      "0              5.0  \n",
      "1              2.0  \n",
      "2              3.0  \n",
      "3              7.0  \n",
      "4              NaN  \n",
      "0      High\n",
      "1    Medium\n",
      "2       Low\n",
      "3      High\n",
      "4      High\n",
      "Name: Severity, dtype: object\n"
     ]
    }
   ],
   "source": [
    "# Define features (X) and target (y)\n",
    "X = df[['Location', 'Employee Age', 'Injury Type', 'Cause', 'Duration (Days)']]\n",
    "y = df['Severity']\n",
    "\n",
    "print(X.head())\n",
    "print(y.head())\n"
   ]
  },
  {
   "cell_type": "code",
   "execution_count": 50,
   "id": "70034eb5-b0fe-4132-8f16-bcc8bd93d763",
   "metadata": {},
   "outputs": [],
   "source": [
    "X = X.fillna({\n",
    "    'Employee Age': X['Employee Age'].mean(),\n",
    "    'Duration (Days)': X['Duration (Days)'].mean(),\n",
    "    'Location': 'Unknown',\n",
    "    'Injury Type': 'Unknown',\n",
    "    'Cause': 'Unknown'\n",
    "})\n"
   ]
  },
  {
   "cell_type": "code",
   "execution_count": 52,
   "id": "8b38cfb6-9773-4a54-a0a0-711d69f74ccb",
   "metadata": {},
   "outputs": [],
   "source": [
    "from sklearn.preprocessing import LabelEncoder\n",
    "\n",
    "le = LabelEncoder()\n",
    "\n",
    "for col in ['Location', 'Injury Type', 'Cause']:\n",
    "    X[col] = le.fit_transform(X[col])\n",
    "\n",
    "# Encode the target variable (Severity)\n",
    "y = le.fit_transform(y)\n"
   ]
  },
  {
   "cell_type": "code",
   "execution_count": 54,
   "id": "38947ed7-89be-49f1-9218-58d7b6013c38",
   "metadata": {},
   "outputs": [],
   "source": [
    "from sklearn.tree import DecisionTreeClassifier\n",
    "\n",
    "# Create the model\n",
    "model = DecisionTreeClassifier(random_state=42)  # random_state to make results consistent\n"
   ]
  },
  {
   "cell_type": "code",
   "execution_count": 58,
   "id": "30fd36d4-63a1-4e1c-886c-677e21a25ba9",
   "metadata": {},
   "outputs": [
    {
     "name": "stdout",
     "output_type": "stream",
     "text": [
      "Cross-Validation Scores: [0.5        0.66666667 0.66666667]\n",
      "Average Cross-Validation Score: 0.611111111111111\n"
     ]
    },
    {
     "name": "stderr",
     "output_type": "stream",
     "text": [
      "C:\\Users\\HP\\AppData\\Local\\anaconda3\\Lib\\site-packages\\sklearn\\model_selection\\_split.py:776: UserWarning: The least populated class in y has only 1 members, which is less than n_splits=3.\n",
      "  warnings.warn(\n"
     ]
    }
   ],
   "source": [
    "from sklearn.model_selection import cross_val_score\n",
    "\n",
    "# Perform 5-fold cross-validation\n",
    "scores = cross_val_score(model, X, y, cv=3)\n",
    "\n",
    "print(\"Cross-Validation Scores:\", scores)\n",
    "print(\"Average Cross-Validation Score:\", scores.mean())\n"
   ]
  },
  {
   "cell_type": "code",
   "execution_count": 60,
   "id": "61f217fd-9a4a-4767-8a7c-d9f2a06a2244",
   "metadata": {},
   "outputs": [
    {
     "name": "stderr",
     "output_type": "stream",
     "text": [
      "C:\\Users\\HP\\AppData\\Local\\anaconda3\\Lib\\site-packages\\sklearn\\model_selection\\_split.py:776: UserWarning: The least populated class in y has only 1 members, which is less than n_splits=3.\n",
      "  warnings.warn(\n"
     ]
    },
    {
     "name": "stdout",
     "output_type": "stream",
     "text": [
      "Best Parameters: {'max_depth': 2, 'min_samples_split': 2}\n",
      "Best Cross-Validation Score: 0.611111111111111\n"
     ]
    }
   ],
   "source": [
    "from sklearn.model_selection import GridSearchCV\n",
    "\n",
    "# Define hyperparameters\n",
    "param_grid = {\n",
    "    'max_depth': [2, 3, 4, 5, 6],\n",
    "    'min_samples_split': [2, 3, 4, 5]\n",
    "}\n",
    "\n",
    "# Setup GridSearch\n",
    "grid_search = GridSearchCV(\n",
    "    DecisionTreeClassifier(random_state=42),\n",
    "    param_grid,\n",
    "    cv=3,  # Use 3 because of small dataset\n",
    "    scoring='accuracy'\n",
    ")\n",
    "\n",
    "# Train\n",
    "grid_search.fit(X, y)\n",
    "\n",
    "# Best model\n",
    "best_tree = grid_search.best_estimator_\n",
    "\n",
    "print(\"Best Parameters:\", grid_search.best_params_)\n",
    "print(\"Best Cross-Validation Score:\", grid_search.best_score_)\n"
   ]
  },
  {
   "cell_type": "code",
   "execution_count": 62,
   "id": "3efe06b6-e114-41f5-a0f4-7ccbc5b92b12",
   "metadata": {},
   "outputs": [
    {
     "name": "stderr",
     "output_type": "stream",
     "text": [
      "C:\\Users\\HP\\AppData\\Local\\anaconda3\\Lib\\site-packages\\sklearn\\model_selection\\_split.py:776: UserWarning: The least populated class in y has only 1 members, which is less than n_splits=3.\n",
      "  warnings.warn(\n"
     ]
    },
    {
     "name": "stdout",
     "output_type": "stream",
     "text": [
      "Random Forest Cross-Validation Scores: [0.25       1.         0.33333333]\n",
      "Random Forest Average Score: 0.5277777777777778\n"
     ]
    }
   ],
   "source": [
    "from sklearn.ensemble import RandomForestClassifier\n",
    "\n",
    "# Build Random Forest\n",
    "rf_model = RandomForestClassifier(n_estimators=100, random_state=42)\n",
    "\n",
    "# Train\n",
    "rf_model.fit(X, y)\n",
    "\n",
    "# Evaluate\n",
    "from sklearn.model_selection import cross_val_score\n",
    "rf_scores = cross_val_score(rf_model, X, y, cv=3)\n",
    "\n",
    "print(\"Random Forest Cross-Validation Scores:\", rf_scores)\n",
    "print(\"Random Forest Average Score:\", rf_scores.mean())\n"
   ]
  },
  {
   "cell_type": "code",
   "execution_count": 64,
   "id": "9af4949c-daee-4e64-a1d6-3ac57ca85c13",
   "metadata": {},
   "outputs": [
    {
     "name": "stdout",
     "output_type": "stream",
     "text": [
      "✅ Model saved successfully!\n"
     ]
    }
   ],
   "source": [
    "import joblib\n",
    "\n",
    "# Save the best model (Tuned Decision Tree)\n",
    "joblib.dump(best_tree, \"risk_predictor.pkl\")\n",
    "\n",
    "# If you had label encoders:\n",
    "# joblib.dump(label_encoder, \"label_encoder.pkl\")\n",
    "\n",
    "print(\"✅ Model saved successfully!\")\n"
   ]
  },
  {
   "cell_type": "code",
   "execution_count": null,
   "id": "293c9025-39e0-469d-9f25-4a455ca6e481",
   "metadata": {},
   "outputs": [],
   "source": []
  }
 ],
 "metadata": {
  "kernelspec": {
   "display_name": "Python [conda env:anaconda3]",
   "language": "python",
   "name": "conda-env-anaconda3-py"
  },
  "language_info": {
   "codemirror_mode": {
    "name": "ipython",
    "version": 3
   },
   "file_extension": ".py",
   "mimetype": "text/x-python",
   "name": "python",
   "nbconvert_exporter": "python",
   "pygments_lexer": "ipython3",
   "version": "3.12.7"
  }
 },
 "nbformat": 4,
 "nbformat_minor": 5
}
